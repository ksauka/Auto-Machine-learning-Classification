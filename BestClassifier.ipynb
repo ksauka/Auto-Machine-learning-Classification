{
 "cells": [
  {
   "cell_type": "markdown",
   "metadata": {
    "toc": true
   },
   "source": [
    "<h1>Table of Contents<span class=\"tocSkip\"></span></h1>\n",
    "<div class=\"toc\"><ul class=\"toc-item\"></ul></div>"
   ]
  },
  {
   "cell_type": "code",
   "execution_count": 56,
   "metadata": {},
   "outputs": [],
   "source": [
    "import numpy as np\n",
    "import pandas as pd\n",
    "from sklearn.model_selection import train_test_split, KFold\n",
    "from sklearn.preprocessing import StandardScaler,OrdinalEncoder,MinMaxScaler,MaxAbsScaler,RobustScaler,OneHotEncoder\n",
    "from sklearn.linear_model import LogisticRegression\n",
    "from sklearn.svm import SVC\n",
    "from sklearn.tree import DecisionTreeClassifier\n",
    "from sklearn.metrics import confusion_matrix,accuracy_score,classification_report,f1_score, precision_score,recall_score,roc_auc_score,roc_curve\n",
    "import matplotlib.pyplot as plt\n",
    "import seaborn as sn\n",
    "from sklearn import model_selection\n",
    "from sklearn.model_selection import GridSearchCV\n",
    "from sklearn.pipeline import Pipeline\n",
    "from sklearn.feature_selection import SelectKBest\n",
    "import warnings\n",
    "warnings.filterwarnings(action='ignore')"
   ]
  },
  {
   "cell_type": "code",
   "execution_count": 3,
   "metadata": {},
   "outputs": [
    {
     "name": "stdout",
     "output_type": "stream",
     "text": [
      "Shape of the data: (699, 11)\n"
     ]
    },
    {
     "data": {
      "text/html": [
       "<div>\n",
       "<style scoped>\n",
       "    .dataframe tbody tr th:only-of-type {\n",
       "        vertical-align: middle;\n",
       "    }\n",
       "\n",
       "    .dataframe tbody tr th {\n",
       "        vertical-align: top;\n",
       "    }\n",
       "\n",
       "    .dataframe thead th {\n",
       "        text-align: right;\n",
       "    }\n",
       "</style>\n",
       "<table border=\"1\" class=\"dataframe\">\n",
       "  <thead>\n",
       "    <tr style=\"text-align: right;\">\n",
       "      <th></th>\n",
       "      <th>Id</th>\n",
       "      <th>CumpThick</th>\n",
       "      <th>UnicellSize</th>\n",
       "      <th>UniCellShape</th>\n",
       "      <th>MargAdh</th>\n",
       "      <th>SingEpiCelSize</th>\n",
       "      <th>Bare Nuc</th>\n",
       "      <th>BlandChr</th>\n",
       "      <th>NormalNuc</th>\n",
       "      <th>Mitoses</th>\n",
       "      <th>Class</th>\n",
       "    </tr>\n",
       "  </thead>\n",
       "  <tbody>\n",
       "    <tr>\n",
       "      <th>0</th>\n",
       "      <td>1000025</td>\n",
       "      <td>5</td>\n",
       "      <td>1</td>\n",
       "      <td>1</td>\n",
       "      <td>1</td>\n",
       "      <td>2</td>\n",
       "      <td>1</td>\n",
       "      <td>3</td>\n",
       "      <td>1</td>\n",
       "      <td>1</td>\n",
       "      <td>2</td>\n",
       "    </tr>\n",
       "    <tr>\n",
       "      <th>1</th>\n",
       "      <td>1002945</td>\n",
       "      <td>5</td>\n",
       "      <td>4</td>\n",
       "      <td>4</td>\n",
       "      <td>5</td>\n",
       "      <td>7</td>\n",
       "      <td>10</td>\n",
       "      <td>3</td>\n",
       "      <td>2</td>\n",
       "      <td>1</td>\n",
       "      <td>2</td>\n",
       "    </tr>\n",
       "    <tr>\n",
       "      <th>2</th>\n",
       "      <td>1015425</td>\n",
       "      <td>3</td>\n",
       "      <td>1</td>\n",
       "      <td>1</td>\n",
       "      <td>1</td>\n",
       "      <td>2</td>\n",
       "      <td>2</td>\n",
       "      <td>3</td>\n",
       "      <td>1</td>\n",
       "      <td>1</td>\n",
       "      <td>2</td>\n",
       "    </tr>\n",
       "    <tr>\n",
       "      <th>3</th>\n",
       "      <td>1016277</td>\n",
       "      <td>6</td>\n",
       "      <td>8</td>\n",
       "      <td>8</td>\n",
       "      <td>1</td>\n",
       "      <td>3</td>\n",
       "      <td>4</td>\n",
       "      <td>3</td>\n",
       "      <td>7</td>\n",
       "      <td>1</td>\n",
       "      <td>2</td>\n",
       "    </tr>\n",
       "    <tr>\n",
       "      <th>4</th>\n",
       "      <td>1017023</td>\n",
       "      <td>4</td>\n",
       "      <td>1</td>\n",
       "      <td>1</td>\n",
       "      <td>3</td>\n",
       "      <td>2</td>\n",
       "      <td>1</td>\n",
       "      <td>3</td>\n",
       "      <td>1</td>\n",
       "      <td>1</td>\n",
       "      <td>2</td>\n",
       "    </tr>\n",
       "  </tbody>\n",
       "</table>\n",
       "</div>"
      ],
      "text/plain": [
       "        Id  CumpThick  UnicellSize  UniCellShape  MargAdh  SingEpiCelSize  \\\n",
       "0  1000025          5            1             1        1               2   \n",
       "1  1002945          5            4             4        5               7   \n",
       "2  1015425          3            1             1        1               2   \n",
       "3  1016277          6            8             8        1               3   \n",
       "4  1017023          4            1             1        3               2   \n",
       "\n",
       "  Bare Nuc  BlandChr  NormalNuc  Mitoses  Class  \n",
       "0        1         3          1        1      2  \n",
       "1       10         3          2        1      2  \n",
       "2        2         3          1        1      2  \n",
       "3        4         3          7        1      2  \n",
       "4        1         3          1        1      2  "
      ]
     },
     "execution_count": 3,
     "metadata": {},
     "output_type": "execute_result"
    }
   ],
   "source": [
    "#Load the data and show the dataset \n",
    "df = pd.read_csv(\n",
    "    'https://archive.ics.uci.edu/ml/machine-learning-databases/breast-cancer-wisconsin/breast-cancer-wisconsin.data', \n",
    "    sep=',', \n",
    "    header=None)\n",
    "df.columns=['Id','CumpThick','UnicellSize','UniCellShape','MargAdh','SingEpiCelSize','Bare Nuc','BlandChr','NormalNuc','Mitoses','Class']\n",
    "print(\"Shape of the data:\", df.shape)\n",
    "df.head()"
   ]
  },
  {
   "cell_type": "code",
   "execution_count": 4,
   "metadata": {},
   "outputs": [
    {
     "name": "stderr",
     "output_type": "stream",
     "text": [
      "<ipython-input-4-b28506ac0699>:1: FutureWarning: The default value of regex will change from True to False in a future version. In addition, single character regular expressions will *not* be treated as literal strings when regex=True.\n",
      "  df['Bare Nuc'] = df['Bare Nuc'].str.replace('?', '1')\n"
     ]
    },
    {
     "data": {
      "text/plain": [
       "1     418\n",
       "10    132\n",
       "2      30\n",
       "5      30\n",
       "3      28\n",
       "8      21\n",
       "4      19\n",
       "9       9\n",
       "7       8\n",
       "6       4\n",
       "Name: Bare Nuc, dtype: int64"
      ]
     },
     "execution_count": 4,
     "metadata": {},
     "output_type": "execute_result"
    }
   ],
   "source": [
    "df['Bare Nuc'] = df['Bare Nuc'].str.replace('?', '1')\n",
    "df['Bare Nuc'].value_counts()"
   ]
  },
  {
   "cell_type": "code",
   "execution_count": 5,
   "metadata": {},
   "outputs": [
    {
     "name": "stdout",
     "output_type": "stream",
     "text": [
      "<class 'pandas.core.frame.DataFrame'>\n",
      "RangeIndex: 699 entries, 0 to 698\n",
      "Data columns (total 11 columns):\n",
      " #   Column          Non-Null Count  Dtype\n",
      "---  ------          --------------  -----\n",
      " 0   Id              699 non-null    int64\n",
      " 1   CumpThick       699 non-null    int64\n",
      " 2   UnicellSize     699 non-null    int64\n",
      " 3   UniCellShape    699 non-null    int64\n",
      " 4   MargAdh         699 non-null    int64\n",
      " 5   SingEpiCelSize  699 non-null    int64\n",
      " 6   Bare Nuc        699 non-null    int32\n",
      " 7   BlandChr        699 non-null    int64\n",
      " 8   NormalNuc       699 non-null    int64\n",
      " 9   Mitoses         699 non-null    int64\n",
      " 10  Class           699 non-null    int64\n",
      "dtypes: int32(1), int64(10)\n",
      "memory usage: 57.5 KB\n"
     ]
    }
   ],
   "source": [
    "# Convert the data type to int\n",
    "df['Bare Nuc'] = df['Bare Nuc'].astype(int)\n",
    "df.info()"
   ]
  },
  {
   "cell_type": "code",
   "execution_count": 6,
   "metadata": {},
   "outputs": [],
   "source": [
    "# Split data into X and y\n",
    "X = df.drop(['Id','Class'], axis=1)\n",
    "y = df['Class']"
   ]
  },
  {
   "cell_type": "code",
   "execution_count": 7,
   "metadata": {},
   "outputs": [],
   "source": [
    "# Train test split\n",
    "X_train, X_test, y_train, y_test = train_test_split(X, y, random_state=1)"
   ]
  },
  {
   "cell_type": "code",
   "execution_count": 8,
   "metadata": {},
   "outputs": [],
   "source": [
    "# Normalization\n",
    "sc = StandardScaler()\n",
    "X_train = sc.fit_transform(X_train)\n",
    "X_test = sc.fit_transform(X_test)"
   ]
  },
  {
   "cell_type": "code",
   "execution_count": 9,
   "metadata": {},
   "outputs": [],
   "source": [
    "# Create a model dictionary\n",
    "models = {\"Logistic Regression\": LogisticRegression(),\n",
    "       \n",
    "          \"Support Vector Machine\": SVC(probability=True),\n",
    "          \"Decision Tree\": DecisionTreeClassifier(),\n",
    "          \n",
    "         }"
   ]
  },
  {
   "cell_type": "code",
   "execution_count": 10,
   "metadata": {},
   "outputs": [],
   "source": [
    "for name, model in models.items():\n",
    "    model.fit(X_train, y_train)"
   ]
  },
  {
   "cell_type": "code",
   "execution_count": 11,
   "metadata": {},
   "outputs": [
    {
     "name": "stdout",
     "output_type": "stream",
     "text": [
      "Accuracy\n",
      "Logistic Regression: 0.977\n",
      "Support Vector Machine: 0.989\n",
      "Decision Tree: 0.949\n"
     ]
    }
   ],
   "source": [
    "# Accuracy\n",
    "print(\"Accuracy\")\n",
    "for name, model in models.items():\n",
    "    print(name + \": {:.3f}\".format(accuracy_score(y_test, model.predict(X_test))))"
   ]
  },
  {
   "cell_type": "code",
   "execution_count": 54,
   "metadata": {},
   "outputs": [],
   "source": [
    "def BestClassifier (X,y,to_scale =None,t_encode=None):\n",
    "    \"\"\"\"   \n",
    "     Find the best combination of scaler, encoder, fitting algorithm\n",
    "    print best score and best combination\n",
    "    Parameters --------------------------------\n",
    "    X: DataFrame of predictors \n",
    "    y: DataFrame of labels \n",
    "    to_scale: an option whether the data is to be scaled = True if t needs scaling ., None if there is no need of encoding \n",
    "    to_encode: an option whether the data is to be encoded if t needs ecncoding, None if there is no need of encoding \n",
    "    scalers: list of scalers\n",
    "            None: [StandardScaler(), MinMaxScaler(), MaxAbsScaler(), RobustScaler()]\n",
    "            if you want to scale other ways, then put the sclaer in list\n",
    "    encoders: list of encoders\n",
    "        None: [OrdinalEncoder(), OneHotEncoder(),SVC(),]\n",
    "        if you want to use only one, put a encoder in list\n",
    "    models: list of models\n",
    "        None: [DecisionTreeClassifier(criterion='entropy'),DecisionTreeClassifier(criterion='gini'),LogisticRegression(),SVC()]\n",
    "        if you want to fit other ways, then put the model in the list\n",
    "    \"\"\"\n",
    "    X_train, X_test, y_train, y_test = train_test_split(X, y, random_state=1)\n",
    "    scalers_to_test =[StandardScaler(),MinMaxScaler(),MaxAbsScaler(),RobustScaler()]\n",
    "    encoders_o_est=[OrdinalEncoder(),OneHotEncoder()]\n",
    "    seed=42\n",
    "    pipe = Pipeline(\n",
    "    steps = [(\"scaler\", StandardScaler()),(\"clf\",LogisticRegression())])\n",
    "    params = [\n",
    "   \n",
    "    {\"scaler\":scalers_to_test,\n",
    "     \"clf\": [DecisionTreeClassifier()],\n",
    "      \"clf__criterion\": [\"gini\",\"entropy\"],\n",
    "      \"clf__splitter\": [\"best\",\"random\"],\n",
    "      \"clf__random_state\": [seed],},\n",
    "     {\"scaler\":scalers_to_test,\n",
    "      \"clf\": [LogisticRegression()],\n",
    "      \"clf__solver\": ['newton-cg','lbfgs', 'sag', 'saga'],\n",
    "      \"clf__penalty\": ['l2']},\n",
    "     {\"scaler\":scalers_to_test,\n",
    "      \"clf\": [SVC()],\n",
    "      \"clf__C\": [0.001,0.01,0.1],\n",
    "      \"clf__kernel\": ['linear','poly', 'rbf', 'sigmoid'],\n",
    "      \"clf__degree\": [1,2,3],\n",
    "      \"clf__gamma\": [1,0.1,0.10,0.01]}\n",
    "      ]\n",
    "      # Only bootstrap == True.\n",
    "    \n",
    "    # Defining StratifiedKFold object -> 10-StratifiedFolds\n",
    "    kfold = KFold(n_splits=10,\n",
    "                        random_state=seed, shuffle=True)\n",
    "    best_model = GridSearchCV(pipe, params, verbose=1).fit(X_train, y_train)\n",
    "    \n",
    "    print(\"Best: %f using %s\" %(best_model.best_score_, best_model.best_params_)\n",
    "    )\n",
    "    predict = best_model.predict(X_test)\n",
    "    print(\"Accuracy of testing: \",\n",
    "            accuracy_score(y_test, predict), \"\\n\")\n",
    "    print(\"Confusion Matrix:\\n\",\n",
    "            confusion_matrix(y_test,predict), \"\\n\")\n",
    "    print(\"Classification report:\\n\",\n",
    "            classification_report(y_test,predict))"
   ]
  },
  {
   "cell_type": "code",
   "execution_count": null,
   "metadata": {},
   "outputs": [],
   "source": []
  },
  {
   "cell_type": "code",
   "execution_count": 57,
   "metadata": {},
   "outputs": [
    {
     "name": "stdout",
     "output_type": "stream",
     "text": [
      "Fitting 5 folds for each of 608 candidates, totalling 3040 fits\n",
      "Best: 0.967546 using {'clf': SVC(C=0.01, degree=1, gamma=1, kernel='sigmoid'), 'clf__C': 0.01, 'clf__degree': 1, 'clf__gamma': 1, 'clf__kernel': 'sigmoid', 'scaler': StandardScaler()}\n",
      "Accuracy of testing:  0.9714285714285714 \n",
      "\n",
      "Confusion Matrix:\n",
      " [[116   2]\n",
      " [  3  54]] \n",
      "\n",
      "Classification report:\n",
      "               precision    recall  f1-score   support\n",
      "\n",
      "           2       0.97      0.98      0.98       118\n",
      "           4       0.96      0.95      0.96        57\n",
      "\n",
      "    accuracy                           0.97       175\n",
      "   macro avg       0.97      0.97      0.97       175\n",
      "weighted avg       0.97      0.97      0.97       175\n",
      "\n"
     ]
    }
   ],
   "source": [
    "BestClassifier(X,y, to_scale=True)"
   ]
  },
  {
   "cell_type": "code",
   "execution_count": null,
   "metadata": {},
   "outputs": [],
   "source": []
  }
 ],
 "metadata": {
  "interpreter": {
   "hash": "7b11789225324bf1a6e67286ab18ad27bfc5ddcf92aac43e76a53f168308e2d2"
  },
  "kernelspec": {
   "display_name": "Python 3",
   "language": "python",
   "name": "python3"
  },
  "language_info": {
   "codemirror_mode": {
    "name": "ipython",
    "version": 3
   },
   "file_extension": ".py",
   "mimetype": "text/x-python",
   "name": "python",
   "nbconvert_exporter": "python",
   "pygments_lexer": "ipython3",
   "version": "3.9.5"
  },
  "toc": {
   "base_numbering": 1,
   "nav_menu": {},
   "number_sections": true,
   "sideBar": true,
   "skip_h1_title": false,
   "title_cell": "Table of Contents",
   "title_sidebar": "Contents",
   "toc_cell": true,
   "toc_position": {
    "height": "calc(100% - 180px)",
    "left": "10px",
    "top": "150px",
    "width": "336px"
   },
   "toc_section_display": true,
   "toc_window_display": true
  }
 },
 "nbformat": 4,
 "nbformat_minor": 2
}
